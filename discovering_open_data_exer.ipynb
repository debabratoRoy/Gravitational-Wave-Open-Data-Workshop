{
  "nbformat": 4,
  "nbformat_minor": 0,
  "metadata": {
    "colab": {
      "provenance": [],
      "authorship_tag": "ABX9TyMYkp5iI9TW4TFii/C8xL+a",
      "include_colab_link": true
    },
    "kernelspec": {
      "name": "python3",
      "display_name": "Python 3"
    },
    "language_info": {
      "name": "python"
    }
  },
  "cells": [
    {
      "cell_type": "markdown",
      "metadata": {
        "id": "view-in-github",
        "colab_type": "text"
      },
      "source": [
        "<a href=\"https://colab.research.google.com/github/debabratoRoy/Gravitational-Wave-Open-Data-Workshop/blob/main/discovering_open_data_exer.ipynb\" target=\"_parent\"><img src=\"https://colab.research.google.com/assets/colab-badge.svg\" alt=\"Open In Colab\"/></a>"
      ]
    },
    {
      "cell_type": "code",
      "execution_count": 2,
      "metadata": {
        "id": "4i7da0DJ_DyC"
      },
      "outputs": [],
      "source": [
        "pip install -q gwosc"
      ]
    },
    {
      "cell_type": "code",
      "source": [
        "pip install -q gwpy"
      ],
      "metadata": {
        "colab": {
          "base_uri": "https://localhost:8080/"
        },
        "collapsed": true,
        "id": "xLRgmwOy_XVQ",
        "outputId": "e301c855-58a8-4383-edd9-9e059db41f05"
      },
      "execution_count": 4,
      "outputs": [
        {
          "output_type": "stream",
          "name": "stdout",
          "text": [
            "\u001b[?25l     \u001b[90m━━━━━━━━━━━━━━━━━━━━━━━━━━━━━━━━━━━━━━━━\u001b[0m \u001b[32m0.0/1.4 MB\u001b[0m \u001b[31m?\u001b[0m eta \u001b[36m-:--:--\u001b[0m\r\u001b[2K     \u001b[91m━━━━━\u001b[0m\u001b[91m╸\u001b[0m\u001b[90m━━━━━━━━━━━━━━━━━━━━━━━━━━━━━━━━━━\u001b[0m \u001b[32m0.2/1.4 MB\u001b[0m \u001b[31m6.0 MB/s\u001b[0m eta \u001b[36m0:00:01\u001b[0m\r\u001b[2K     \u001b[91m━━━━━━━━━━━━━━━━━━━━━━━━━━━━━━━━━━━━━━━\u001b[0m\u001b[91m╸\u001b[0m \u001b[32m1.4/1.4 MB\u001b[0m \u001b[31m22.5 MB/s\u001b[0m eta \u001b[36m0:00:01\u001b[0m\r\u001b[2K     \u001b[90m━━━━━━━━━━━━━━━━━━━━━━━━━━━━━━━━━━━━━━━━\u001b[0m \u001b[32m1.4/1.4 MB\u001b[0m \u001b[31m17.9 MB/s\u001b[0m eta \u001b[36m0:00:00\u001b[0m\n",
            "\u001b[2K     \u001b[90m━━━━━━━━━━━━━━━━━━━━━━━━━━━━━━━━━━━━━━━━\u001b[0m \u001b[32m295.0/295.0 kB\u001b[0m \u001b[31m28.6 MB/s\u001b[0m eta \u001b[36m0:00:00\u001b[0m\n",
            "\u001b[2K     \u001b[90m━━━━━━━━━━━━━━━━━━━━━━━━━━━━━━━━━━━━━━━━\u001b[0m \u001b[32m45.5/45.5 kB\u001b[0m \u001b[31m5.3 MB/s\u001b[0m eta \u001b[36m0:00:00\u001b[0m\n",
            "\u001b[2K     \u001b[90m━━━━━━━━━━━━━━━━━━━━━━━━━━━━━━━━━━━━━━━━\u001b[0m \u001b[32m51.0/51.0 kB\u001b[0m \u001b[31m6.6 MB/s\u001b[0m eta \u001b[36m0:00:00\u001b[0m\n",
            "\u001b[?25h  Preparing metadata (setup.py) ... \u001b[?25l\u001b[?25hdone\n",
            "  Building wheel for ligo-segments (setup.py) ... \u001b[?25l\u001b[?25hdone\n"
          ]
        }
      ]
    },
    {
      "cell_type": "markdown",
      "source": [
        "# Exercise (Discovering Open Data)\n",
        "\n",
        "1. How many months did O2 last? (Hint: check the output of find_datasets(type='run') to find the correct label to use)\n",
        "2. How many GWTC-3-confident events were detected during O3b?\n",
        "3. How many events have been detected with a network signal to noise ratio (SNR) >= 30?"
      ],
      "metadata": {
        "id": "C6KXE8Is_MS9"
      }
    },
    {
      "cell_type": "code",
      "source": [
        "from gwosc.datasets import find_datasets, run_at_gps, run_segment, query_events\n",
        "from gwpy.time import tconvert\n",
        "import math"
      ],
      "metadata": {
        "id": "0SAZCKO3_LBC"
      },
      "execution_count": 31,
      "outputs": []
    },
    {
      "cell_type": "code",
      "source": [
        "find_datasets(type='run')"
      ],
      "metadata": {
        "colab": {
          "base_uri": "https://localhost:8080/"
        },
        "id": "0VH78lcOAXIp",
        "outputId": "4f71ff7a-6246-4d91-b852-e237901d14e4"
      },
      "execution_count": 10,
      "outputs": [
        {
          "output_type": "execute_result",
          "data": {
            "text/plain": [
              "['BKGW170608_16KHZ_R1',\n",
              " 'O1',\n",
              " 'O1_16KHZ',\n",
              " 'O2_16KHZ_R1',\n",
              " 'O2_4KHZ_R1',\n",
              " 'O3GK_16KHZ_R1',\n",
              " 'O3GK_4KHZ_R1',\n",
              " 'O3a_16KHZ_R1',\n",
              " 'O3a_4KHZ_R1',\n",
              " 'O3b_16KHZ_R1',\n",
              " 'O3b_4KHZ_R1',\n",
              " 'S5',\n",
              " 'S6']"
            ]
          },
          "metadata": {},
          "execution_count": 10
        }
      ]
    },
    {
      "cell_type": "code",
      "source": [
        "# 1\n",
        "\n",
        "O2_1 = run_segment('O2_16KHZ_R1')\n",
        "# O2_2 = run_segment('O2_4KHZ_R1')\n",
        "\n",
        "O2_duration_1 = tconvert(O2_1[1]) - tconvert(O2_1[0])\n",
        "display(O2_duration_1)\n",
        "# O2_duration_2 = tconvert(O2_2[1]) - tconvert(O2_2[0])\n",
        "\n",
        "# in month\n",
        "O2_duration_mnth = math.ceil(268 / 30)\n",
        "print('O2_duration_in_months: ',O2_duration_mnth,'(approximately)')"
      ],
      "metadata": {
        "colab": {
          "base_uri": "https://localhost:8080/",
          "height": 52
        },
        "id": "vZNg86VoAhkt",
        "outputId": "ef964a10-4732-4848-c6ad-8275d13265af"
      },
      "execution_count": 34,
      "outputs": [
        {
          "output_type": "display_data",
          "data": {
            "text/plain": [
              "datetime.timedelta(days=268, seconds=21600)"
            ]
          },
          "metadata": {}
        },
        {
          "output_type": "stream",
          "name": "stdout",
          "text": [
            "O2_duration_in_months:  9 (approximately)\n"
          ]
        }
      ]
    },
    {
      "cell_type": "code",
      "source": [],
      "metadata": {
        "id": "wA5tkFjZCUo_"
      },
      "execution_count": null,
      "outputs": []
    },
    {
      "cell_type": "code",
      "source": [
        "# 2\n",
        "\n",
        "O3b_1 = find_datasets(type='event',catalog='GWTC-3-confident',segment=run_segment('O3b_4KHZ_R1'))\n",
        "O3b_2 = find_datasets(type='event',catalog='GWTC-3-confident',segment=run_segment('O3b_16KHZ_R1'))\n",
        "\n",
        "print('Total GWTC-3-confident events were detected during O3b: ', len(O3b_1+O3b_2))"
      ],
      "metadata": {
        "colab": {
          "base_uri": "https://localhost:8080/"
        },
        "id": "1x6QtjPcD5Zj",
        "outputId": "916b6426-438a-4b49-ae6d-2a819f5c461d"
      },
      "execution_count": 44,
      "outputs": [
        {
          "output_type": "stream",
          "name": "stdout",
          "text": [
            "Total GWTC-3-confident events were detected during O3b:  70\n"
          ]
        }
      ]
    },
    {
      "cell_type": "code",
      "source": [],
      "metadata": {
        "id": "YTwCVvMJETCb"
      },
      "execution_count": null,
      "outputs": []
    },
    {
      "cell_type": "code",
      "source": [
        "# 3\n",
        "\n",
        "selection = query_events(select=[\"network-matched-filter-snr >= 30\"])\n",
        "print('Total number of events detected with a network signal to noise ratio >= 30 is ', len(selection))"
      ],
      "metadata": {
        "colab": {
          "base_uri": "https://localhost:8080/"
        },
        "id": "ojYL58YTFarZ",
        "outputId": "45d77fbd-c90a-4b52-ac4c-58d892bf80e9"
      },
      "execution_count": 51,
      "outputs": [
        {
          "output_type": "stream",
          "name": "stdout",
          "text": [
            "Total number of events detected with a network signal to noise ratio >= 30 is  1\n"
          ]
        }
      ]
    },
    {
      "cell_type": "code",
      "source": [],
      "metadata": {
        "id": "u37a7CDKF_8s"
      },
      "execution_count": null,
      "outputs": []
    }
  ]
}